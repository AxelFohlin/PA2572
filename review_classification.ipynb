{
 "cells": [
  {
   "cell_type": "code",
   "execution_count": null,
   "id": "9df80989",
   "metadata": {},
   "outputs": [],
   "source": [
    "import re\n",
    "import pandas as pd\n",
    "from tqdm import tqdm\n",
    "\n",
    "from transformers import pipeline\n",
    "\n",
    "model_name = \"cardiffnlp/twitter-roberta-base-sentiment\"\n",
    "\n",
    "classifier = pipeline(\"sentiment-analysis\", model=model_name, device=0)\n",
    "\n",
    "\n",
    "label_map = {\n",
    "    'LABEL_0': 'NEGATIVE',\n",
    "    'LABEL_1': 'NEUTRAL',\n",
    "    'LABEL_2': 'POSITIVE'\n",
    "}\n",
    "\n",
    "from langdetect import detect\n",
    "from langdetect.lang_detect_exception import LangDetectException"
   ]
  },
  {
   "cell_type": "markdown",
   "id": "cbb928b0",
   "metadata": {},
   "source": [
    "1. **Helper Functions**  \n",
    "   Several utility functions are defined to support preprocessing and classification:\n",
    "   - `remove_html(text)`: Strips HTML tags from the input text.\n",
    "   - `clean_review(text)`: Performs text cleaning using the `remove_html` function.\n",
    "   - `detect_language(text)`: Detects the language of the review to filter non-English entries.\n",
    "   - `classify_sentiment(text)`: Uses a pretrained Hugging Face model to classify the sentiment of the review as positive, neutral, or negative.\n"
   ]
  },
  {
   "cell_type": "code",
   "execution_count": null,
   "id": "1d9f19c7",
   "metadata": {},
   "outputs": [],
   "source": [
    "def remove_html(text):\n",
    "    clean = re.sub(r'<[^>]+>', ' ', text)\n",
    "    return re.sub(r'\\s+', ' ', clean).strip()\n",
    "\n",
    "def clean_review(text):\n",
    "    if pd.isna(text):\n",
    "        return None\n",
    "    text = remove_html(text)\n",
    "    return text\n",
    "\n",
    "def detect_language(text):\n",
    "    try:\n",
    "        return detect(text)\n",
    "    except LangDetectException:\n",
    "        return \"error\"\n",
    "\n",
    "\n",
    "def classify_sentiment(text):\n",
    "    try:\n",
    "        return label_map[classifier(text[:514])[0]['label']]\n",
    "    except Exception as e:\n",
    "        print(f\"Error processing: {text[:60]}... -> {e}\")\n",
    "        return \"error\""
   ]
  },
  {
   "cell_type": "markdown",
   "id": "9e6d7c3c",
   "metadata": {},
   "source": [
    "2. **Preprocessing**  \n",
    "   Raw review data is loaded and cleaned:\n",
    "   - Read the CSV file: `data/reviews.csv`.\n",
    "   - Remove entries with missing comments.\n",
    "   - Apply `clean_review` to clean the review.\n",
    "   - Filter out reviews that are not written in English using `detect_language`."
   ]
  },
  {
   "cell_type": "code",
   "execution_count": null,
   "id": "78741d96",
   "metadata": {},
   "outputs": [],
   "source": [
    "df = pd.read_csv(\"data/reviews.csv\")\n",
    "df.dropna(subset=['comments'], inplace=True)\n",
    "\n",
    "df['comments'] = df['comments'].apply(clean_review)\n",
    "\n",
    "df = df[df['comments'].apply(detect_language) == 'en']"
   ]
  },
  {
   "cell_type": "markdown",
   "metadata": {},
   "source": [
    "3. **Sentiment Analysis**  \n",
    "   The cleaned and filtered English reviews are passed in batches to a Hugging Face transformer pipeline running on GPU to classify each review's sentiment."
   ]
  },
  {
   "cell_type": "code",
   "execution_count": null,
   "metadata": {},
   "outputs": [],
   "source": [
    "texts = df['comments'].str[:514].tolist()\n",
    "batch_size = 32\n",
    "results = []\n",
    "\n",
    "for i in tqdm(range(0, len(texts), batch_size), desc=\"Classifying\"):\n",
    "    batch = texts[i:i + batch_size]\n",
    "    try:\n",
    "        batch_results = classifier(batch)\n",
    "        batch_labels = [label_map.get(result['label'], 'unknown') for result in batch_results]\n",
    "    except Exception as e:\n",
    "        print(f\"Error processing batch {i//batch_size}: {e}\")\n",
    "        batch_labels = ['error'] * len(batch)\n",
    "    results.extend(batch_labels)\n",
    "\n",
    "df['sentiment'] = results"
   ]
  },
  {
   "cell_type": "markdown",
   "id": "0a901f20",
   "metadata": {},
   "source": [
    "4. **Saving Results**  \n",
    "   The final dataset, including predicted sentiment labels, is saved. Additional filtering can be done to extract only positive or negative reviews for further analysis."
   ]
  },
  {
   "cell_type": "code",
   "execution_count": null,
   "metadata": {},
   "outputs": [],
   "source": [
    "df[df['sentiment'] != 'NEUTRAL'].to_csv('data/sentiment_reviews.csv', index=False)\n",
    "df[df['sentiment'] == 'NEGATIVE'][['comments', 'sentiment']].to_csv('data/negative_reviews.csv', index=False)\n",
    "df[df['sentiment'] == 'POSITIVE'][['comments', 'sentiment']].to_csv('data/positive_reviews.csv', index=False)\n",
    "\n",
    "print(\"Sentiment classification completed and saved to sentiment_reviews.csv\")\n",
    "print(\"Negative reviews saved to negative_reviews.csv size:\", len(df[df['sentiment'] == 'NEGATIVE'].index))\n",
    "print(\"Positive reviews saved to positive_reviews.csv size:\", len(df[df['sentiment'] == 'POSITIVE'].index))"
   ]
  }
 ],
 "metadata": {
  "kernelspec": {
   "display_name": "Python 3",
   "language": "python",
   "name": "python3"
  },
  "language_info": {
   "codemirror_mode": {
    "name": "ipython",
    "version": 3
   },
   "file_extension": ".py",
   "mimetype": "text/x-python",
   "name": "python",
   "nbconvert_exporter": "python",
   "pygments_lexer": "ipython3",
   "version": "3.10.12"
  }
 },
 "nbformat": 4,
 "nbformat_minor": 5
}
