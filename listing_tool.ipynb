{
 "cells": [
  {
   "cell_type": "code",
   "execution_count": null,
   "id": "00b8bc20",
   "metadata": {},
   "outputs": [],
   "source": [
    "import re\n",
    "import pandas as pd\n",
    "import numpy as np\n",
    "from IPython.display import display\n",
    "\n",
    "from sentence_transformers import SentenceTransformer\n",
    "from sklearn.ensemble import RandomForestRegressor\n",
    "\n",
    "embedding_model = SentenceTransformer('sentence-transformers/all-MiniLM-L6-v2')"
   ]
  },
  {
   "cell_type": "code",
   "execution_count": null,
   "metadata": {},
   "outputs": [],
   "source": [
    "# Load the CSV file\n",
    "data = pd.read_csv(\"data/listings/listings.csv\")\n",
    "\n",
    "# display(data[['bathrooms', 'bathrooms_text']])\n",
    "\n",
    "# Select important columns\n",
    "important_columns = [\n",
    "    'id',\n",
    "    'price',\n",
    "    'neighbourhood_cleansed',\n",
    "    'room_type',\n",
    "    'bedrooms',\n",
    "    'bathrooms',\n",
    "    'accommodates',\n",
    "    'amenities',\n",
    "    'minimum_nights',\n",
    "    'number_of_reviews',\n",
    "    'review_scores_rating',\n",
    "    'name',\n",
    "    'description'\n",
    "]# Save the filtered data to a new CSV file\n",
    "\n",
    "df_listing = data[important_columns].copy() # Use copy to be independent of the original data"
   ]
  },
  {
   "cell_type": "markdown",
   "id": "c1ff2fb5",
   "metadata": {},
   "source": [
    "# PREPROCESSING"
   ]
  },
  {
   "cell_type": "markdown",
   "id": "190de5ea",
   "metadata": {},
   "source": [
    "## Helper Functions"
   ]
  },
  {
   "cell_type": "code",
   "execution_count": null,
   "id": "b7e899cf",
   "metadata": {},
   "outputs": [],
   "source": [
    "def append_sentiment_score(listings_df: pd.DataFrame, reviews_df: pd.DataFrame):\n",
    "    \"\"\"\n",
    "    Add sentiment score directly to the listings_df based on reviews_df.\n",
    "    This modifies listings_df in place.\n",
    "    \"\"\"\n",
    "    listings_df['id'] = listings_df['id'].astype(int)\n",
    "    reviews_df['listing_id'] = reviews_df['listing_id'].astype(int)\n",
    "\n",
    "    # Convert sentiment labels to binary scores\n",
    "    reviews_df['sentiment_score'] = reviews_df['sentiment'].map({'POSITIVE': 1, 'NEGATIVE': 0})\n",
    "\n",
    "    # Aggregate average sentiment score\n",
    "    aggregated_sentiment = (\n",
    "        reviews_df.groupby('listing_id')['sentiment_score']\n",
    "        .mean()\n",
    "        .reset_index()\n",
    "    )\n",
    "    sentiment_map = dict(zip(aggregated_sentiment['listing_id'], aggregated_sentiment['sentiment_score']))\n",
    "    listings_df['sentiment_score'] = listings_df['id'].map(sentiment_map)\n",
    "\n",
    "def embedd_amenity(amenities: list[str]):\n",
    "    return embedding_model.encode(amenities)\n",
    "\n",
    "def itemize_amenities(listings_df: pd.DataFrame):\n",
    "    \"\"\"\n",
    "    Converts the 'amenities' column of stringified lists into multi-hot encoded columns.\n",
    "    Modifies listings_df in place by appending amenity columns.\n",
    "    \"\"\"\n",
    "\n",
    "    listings_df['embedded_amenities'] = listings_df['amenities'].apply(embedd_amenity)\n",
    "\n"
   ]
  },
  {
   "cell_type": "markdown",
   "id": "fa916a1c",
   "metadata": {},
   "source": [
    "## Preprocessing the Data"
   ]
  },
  {
   "cell_type": "code",
   "execution_count": null,
   "id": "c9719309",
   "metadata": {},
   "outputs": [],
   "source": [
    "# Price\n",
    "df_listing[\"price\"] = df_listing[\"price\"].replace('[\\$,]', '', regex=True).astype(float)\n",
    "df_listing = df_listing.dropna(subset=['price'])\n",
    "df_listing = df_listing[df_listing['price'] != 0]\n",
    "\n",
    "df_reviews = pd.read_csv(\"data/sentiment_reviews.csv\")\n",
    "append_sentiment_score(df_listing, df_reviews)\n",
    "itemize_amenities(df_listing)\n",
    "\n",
    "display(df_listing)\n"
   ]
  },
  {
   "cell_type": "markdown",
   "id": "5f7bc951",
   "metadata": {},
   "source": [
    "# Train the Model"
   ]
  },
  {
   "cell_type": "code",
   "execution_count": null,
   "id": "66167f7f",
   "metadata": {},
   "outputs": [],
   "source": [
    "\n",
    "numerical_features = df_listing[['bedrooms', 'bathrooms', 'accommodates', 'minimum_nights']].values\n",
    "embedded_features = np.array(df_listing['embedded_amenities'].tolist())\n",
    "\n",
    "X = np.hstack((embedded_features, numerical_features))\n",
    "y = df_listing['price'].values\n",
    "\n",
    "model = RandomForestRegressor(n_estimators=100, random_state=42)\n",
    "model.fit(X, y)\n"
   ]
  },
  {
   "cell_type": "markdown",
   "id": "b0c2630a",
   "metadata": {},
   "source": [
    "# Test the Model"
   ]
  },
  {
   "cell_type": "code",
   "execution_count": null,
   "id": "c30f57a3",
   "metadata": {},
   "outputs": [],
   "source": [
    "new_amenities = [\n",
    "  \"Hair dryer\",\n",
    "  \"Hangers\",\n",
    "  \"Long term stays allowed\",\n",
    "  \"Host greets you\",\n",
    "  \"Bathtub\",\n",
    "  \"Luggage dropoff allowed\",\n",
    "  \"Iron\",\n",
    "  \"Essentials\",\n",
    "  \"Free washer – In building\",\n",
    "  \"Elevator\",\n",
    "  \"Free dryer – In building\",\n",
    "  \"Courtyard view\",\n",
    "  \"Smoke alarm\",\n",
    "  \"TV\",\n",
    "  \"Garden view\",\n",
    "  \"Dishes and silverware\",\n",
    "  \"Shared backyard – Not fully fenced\",\n",
    "  \"Outdoor playground\",\n",
    "  \"Heating\",\n",
    "  \"Hot water\",\n",
    "  \"Shampoo\",\n",
    "  \"Bed linens\",\n",
    "  \"Extra pillows and blankets\",\n",
    "  \"Lock on bedroom door\",\n",
    "  \"Fast wifi – 399 Mbps\",\n",
    "  \"Park view\",\n",
    "  \"Refrigerator\",\n",
    "  \"Microwave\",\n",
    "  \"Coffee maker\"\n",
    "]\n",
    "\n",
    "new_amenities_embedding = np.array(embedding_model.encode(new_amenities))\n",
    "\n",
    "new_amenities_embedding = np.mean(new_amenities_embedding, axis=0).reshape(1, -1)\n",
    "\n",
    "new_numerical_features = np.array([[2, 1, 2, 2]]) # 1 bedroom, 2 bathrooms, accommodates 2 people, sentiment score 0.6 , minimum nights 10, number of reviews 0, review score 0\n",
    "\n",
    "new_features = np.hstack((new_amenities_embedding, new_numerical_features))\n",
    "\n",
    "# 5. Predict\n",
    "predicted_price = model.predict(new_features)\n",
    "print(predicted_price)"
   ]
  }
 ],
 "metadata": {
  "kernelspec": {
   "display_name": "Python 3",
   "language": "python",
   "name": "python3"
  },
  "language_info": {
   "codemirror_mode": {
    "name": "ipython",
    "version": 3
   },
   "file_extension": ".py",
   "mimetype": "text/x-python",
   "name": "python",
   "nbconvert_exporter": "python",
   "pygments_lexer": "ipython3",
   "version": "3.10.12"
  }
 },
 "nbformat": 4,
 "nbformat_minor": 5
}
