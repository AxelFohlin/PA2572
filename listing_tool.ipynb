{
 "cells": [
  {
   "cell_type": "code",
   "execution_count": null,
   "id": "00b8bc20",
   "metadata": {},
   "outputs": [],
   "source": [
    "import re\n",
    "import pandas as pd\n",
    "import numpy as np"
   ]
  },
  {
   "cell_type": "code",
   "execution_count": null,
   "metadata": {},
   "outputs": [],
   "source": [
    "# Load the CSV file\n",
    "data = pd.read_csv(\"data/listings/listings.csv\")\n",
    "\n",
    "# Select important columns\n",
    "important_columns = [\n",
    "    'price',\n",
    "    'neighbourhood_cleansed',\n",
    "    'room_type',\n",
    "    'bedrooms',\n",
    "    'bathrooms_text',\n",
    "    'accommodates',\n",
    "    'amenities',\n",
    "    'minimum_nights',\n",
    "    'number_of_reviews',\n",
    "    'review_scores_rating',\n",
    "    'name',\n",
    "    'description'\n",
    "]# Save the filtered data to a new CSV file\n",
    "\n",
    "df_listing = data[important_columns]"
   ]
  },
  {
   "cell_type": "markdown",
   "id": "c1ff2fb5",
   "metadata": {},
   "source": [
    "# PREPROCESSING"
   ]
  },
  {
   "cell_type": "code",
   "execution_count": null,
   "id": "b7e899cf",
   "metadata": {},
   "outputs": [],
   "source": [
    "def add_sentiment_score(listing_df: pd.DataFrame, reviews_df: pd.DataFrame) -> pd.DataFrame:\n",
    "    \"\"\"\n",
    "    Add sentiment score to the listing DataFrame based on reviews.\n",
    "    \"\"\"\n",
    "    # Placeholder for sentiment analysis logic\n",
    "    # For now, we will just return the original DataFrame\n",
    "    return listing_df\n",
    "\n",
    "def parse_bathroom_count(text):\n",
    "    if pd.isna(text):\n",
    "        return np.nan\n",
    "    text = str(text).lower().strip()\n",
    "    \n",
    "    if \"half\" in text:\n",
    "        return 0.5\n",
    "    match = re.search(r\"([\\d\\.]+)\", text)\n",
    "    if match:\n",
    "        return float(match.group(1))\n",
    "    return np.nan\n",
    "\n",
    "# Logic to remove rows with missing important columns?\n",
    "\n",
    "# Price\n",
    "df_listing[\"price\"] = df_listing[\"price\"].replace('[\\$,]', '', regex=True).astype(float)\n",
    "# Convert bathroom text to numerical\n",
    "df_listing['bathrooms'] = df_listing['bathrooms_text'].apply(parse_bathroom_count)\n",
    "print(df_listing.columns)\n",
    "df_listing.drop([\"bathrooms_text\"], axis=1, inplace=True)\n",
    "\n",
    "print(df_listing[\"price\"].unique())\n",
    "print(df_listing[\"bathrooms\"].unique())"
   ]
  }
 ],
 "metadata": {
  "language_info": {
   "name": "python"
  }
 },
 "nbformat": 4,
 "nbformat_minor": 5
}
